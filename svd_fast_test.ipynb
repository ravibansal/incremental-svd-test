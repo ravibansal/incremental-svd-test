{
 "cells": [
  {
   "cell_type": "code",
   "execution_count": 1,
   "metadata": {},
   "outputs": [],
   "source": [
    "import recsys.algorithm\n",
    "recsys.algorithm.VERBOSE = True"
   ]
  },
  {
   "cell_type": "code",
   "execution_count": 2,
   "metadata": {},
   "outputs": [
    {
     "name": "stdout",
     "output_type": "stream",
     "text": [
      "Loading ./data_latest/ml-latest-small/ratings.csv\n",
      "\n",
      "Error while reading (rating, userId, movieId). Skipping this tuple\n",
      ".\n",
      "SVDLIBC: Computing svd(k=100) from matrix.dat, saving it to svd\n",
      "Reading files: svd-Ut, svd-Vt, svd-S\n",
      "Reading index files: svd.ids.rows, svd.ids.cols\n",
      "Creating SVD() class\n"
     ]
    }
   ],
   "source": [
    "from recsys.utils.svdlibc import SVDLIBC\n",
    "svdlibc = SVDLIBC('./data_latest/ml-latest-small/ratings.csv')\n",
    "svdlibc.to_sparse_matrix(sep=',', format={'col':1, 'row':0, 'value':2, 'ids': long})\n",
    "svdlibc.compute(k=100)\n",
    "svd = svdlibc.export()"
   ]
  },
  {
   "cell_type": "code",
   "execution_count": 3,
   "metadata": {},
   "outputs": [
    {
     "name": "stdout",
     "output_type": "stream",
     "text": [
      "Saving svd model to ./movielens-small-test\n"
     ]
    }
   ],
   "source": [
    "svd.save_model('./movielens-small-test')"
   ]
  },
  {
   "cell_type": "code",
   "execution_count": 4,
   "metadata": {},
   "outputs": [],
   "source": [
    "from recsys.algorithm.factorize import SVD\n",
    "svd = SVD()\n",
    "svd.load_model('./movielens-small-test')"
   ]
  },
  {
   "cell_type": "code",
   "execution_count": 5,
   "metadata": {},
   "outputs": [
    {
     "data": {
      "text/plain": [
       "[(1, 0.9999999999999994),\n",
       " (325, 0.5177356729296284),\n",
       " (35, 0.5137513027292746),\n",
       " (310, 0.4842546880373257),\n",
       " (195, 0.46060787741756204),\n",
       " (102, 0.44341198116579184),\n",
       " (130, 0.44116622235392133),\n",
       " (119, 0.4207529498600915),\n",
       " (335, 0.41943812875192105),\n",
       " (170, 0.4133954141649977)]"
      ]
     },
     "execution_count": 5,
     "metadata": {},
     "output_type": "execute_result"
    }
   ],
   "source": [
    "svd.similar(1)"
   ]
  },
  {
   "cell_type": "code",
   "execution_count": 6,
   "metadata": {},
   "outputs": [
    {
     "data": {
      "text/plain": [
       "M':<ReconstructedMatrix: 671 by 9066>\n",
       "A row (U):[1 => -0.0352426, 2 => -0.0152636, 3 => 0.00563629, 4 => 0.00266512, 5 => 0.00405691, 6 => 0.00234333, 7 => 0.0191429, 8 => 0.00283588, 9 => 0.00369832, 10 => -0.0179606, ...]\n",
       "A col (V):[ 6.79576127e+00  5.91054506e-01 -1.55469920e+00 -2.64237959e+00\n",
       "  1.33532507e+00  1.16767488e+00  9.49265175e-01  6.11043983e-02\n",
       " -2.74301145e+00 -1.77729773e+00  1.41190427e+00 -8.46218490e-01\n",
       "  4.57932405e+00  9.49548244e-01 -2.00515144e+00  1.22124557e+00\n",
       "  3.17473692e+00  1.26149606e-01 -9.63625050e-01  1.39376062e+00\n",
       " -2.54263540e+00  5.10432155e-01 -3.42795379e+00  4.12065350e-02\n",
       " -3.00224967e-02  1.39903417e-01 -2.95691110e+00  1.07765515e+00\n",
       " -4.07025936e-03 -3.29921530e-01  1.38155227e+00  4.69851887e-02\n",
       "  1.53326736e+00  8.11230248e-01 -8.93457662e-01  1.96411255e+00\n",
       " -1.65747855e+00 -3.57194512e-01 -2.73999009e-01  1.38442793e+00\n",
       " -3.48428324e-01 -1.19225564e+00 -4.23236626e-02  1.03025285e+00\n",
       "  3.91149032e-01  1.04796931e+00 -1.19935423e+00  5.28466224e-02\n",
       " -1.61936562e+00  8.15953183e-01  6.11642392e-01 -2.56373609e-01\n",
       "  9.04510348e-01  2.49727218e+00  1.30999282e-02 -1.30051805e+00\n",
       " -1.00161353e+00  5.49457569e-01 -2.78580929e-01 -7.21823755e-01\n",
       "  2.67683268e-01  1.21784364e+00 -2.14191987e-01  7.33500468e-01\n",
       " -1.28112647e+00 -3.69028010e-01 -4.82846568e-01 -4.37389252e-01\n",
       "  1.89445345e+00 -4.07485839e-01 -4.19272115e-01 -1.55071897e+00\n",
       " -8.75564438e-01 -2.55499750e-01  7.46649708e-01  1.50244291e-01\n",
       " -1.81490168e+00  1.82467436e+00 -2.50009403e-01  7.16222657e-01\n",
       " -1.06085568e+00 -1.57428777e+00 -1.99838125e+00 -2.41475427e-01\n",
       " -2.31983280e-01  1.03653221e+00  9.95786237e-01 -6.91479226e-01\n",
       " -2.08331081e-01 -1.68369176e+00 -1.43244146e+00  1.67277349e-01\n",
       "  4.19747325e-01  1.64782497e+00  7.13592873e-01 -1.14596521e+00\n",
       "  1.34252339e+00  8.07714428e-01  7.60050496e-01  1.18188473e+00]"
      ]
     },
     "execution_count": 6,
     "metadata": {},
     "output_type": "execute_result"
    }
   ],
   "source": [
    "svd"
   ]
  },
  {
   "cell_type": "code",
   "execution_count": 8,
   "metadata": {},
   "outputs": [
    {
     "name": "stdout",
     "output_type": "stream",
     "text": [
      "Loading ./data_latest/ml-latest/ratings_fold.csv\n",
      "\n",
      "Error while reading (rating, userId, movieId). Skipping this tuple\n",
      "\n"
     ]
    }
   ],
   "source": [
    "#fold-in checking\n",
    "from recsys.datamodel.data import Data\n",
    "filename = './data_latest/ml-latest/ratings_fold.csv'\n",
    "format = {'col':1, 'row':0, 'value':2, 'ids': long}\n",
    "data = Data()\n",
    "data.load(filename, sep=',', format=format)"
   ]
  },
  {
   "cell_type": "code",
   "execution_count": 9,
   "metadata": {},
   "outputs": [
    {
     "name": "stdout",
     "output_type": "stream",
     "text": [
      "Reading the new batch\n",
      "Batch loaded successfully\n",
      "Folding in batch entries\n",
      "\n",
      "before updating, M= (671, 9066)\n",
      "done updating, M= (672, 9066)\n"
     ]
    }
   ],
   "source": [
    "svd.load_updateDataBatch_foldin(data=data,is_row=True)"
   ]
  },
  {
   "cell_type": "code",
   "execution_count": 10,
   "metadata": {},
   "outputs": [
    {
     "data": {
      "text/plain": [
       "M':<ReconstructedMatrix: 672 by 9066>\n",
       "A row (U):[1 => -0.0352426, 2 => -0.0152636, 3 => 0.00563629, 4 => 0.00266512, 5 => 0.00405691, 6 => 0.00234333, 7 => 0.0191429, 8 => 0.00283588, 9 => 0.00369832, 10 => -0.0179606, ...]\n",
       "A col (V):[ 6.79576127e+00  5.91054506e-01 -1.55469920e+00 -2.64237959e+00\n",
       "  1.33532507e+00  1.16767488e+00  9.49265175e-01  6.11043983e-02\n",
       " -2.74301145e+00 -1.77729773e+00  1.41190427e+00 -8.46218490e-01\n",
       "  4.57932405e+00  9.49548244e-01 -2.00515144e+00  1.22124557e+00\n",
       "  3.17473692e+00  1.26149606e-01 -9.63625050e-01  1.39376062e+00\n",
       " -2.54263540e+00  5.10432155e-01 -3.42795379e+00  4.12065350e-02\n",
       " -3.00224967e-02  1.39903417e-01 -2.95691110e+00  1.07765515e+00\n",
       " -4.07025936e-03 -3.29921530e-01  1.38155227e+00  4.69851887e-02\n",
       "  1.53326736e+00  8.11230248e-01 -8.93457662e-01  1.96411255e+00\n",
       " -1.65747855e+00 -3.57194512e-01 -2.73999009e-01  1.38442793e+00\n",
       " -3.48428324e-01 -1.19225564e+00 -4.23236626e-02  1.03025285e+00\n",
       "  3.91149032e-01  1.04796931e+00 -1.19935423e+00  5.28466224e-02\n",
       " -1.61936562e+00  8.15953183e-01  6.11642392e-01 -2.56373609e-01\n",
       "  9.04510348e-01  2.49727218e+00  1.30999282e-02 -1.30051805e+00\n",
       " -1.00161353e+00  5.49457569e-01 -2.78580929e-01 -7.21823755e-01\n",
       "  2.67683268e-01  1.21784364e+00 -2.14191987e-01  7.33500468e-01\n",
       " -1.28112647e+00 -3.69028010e-01 -4.82846568e-01 -4.37389252e-01\n",
       "  1.89445345e+00 -4.07485839e-01 -4.19272115e-01 -1.55071897e+00\n",
       " -8.75564438e-01 -2.55499750e-01  7.46649708e-01  1.50244291e-01\n",
       " -1.81490168e+00  1.82467436e+00 -2.50009403e-01  7.16222657e-01\n",
       " -1.06085568e+00 -1.57428777e+00 -1.99838125e+00 -2.41475427e-01\n",
       " -2.31983280e-01  1.03653221e+00  9.95786237e-01 -6.91479226e-01\n",
       " -2.08331081e-01 -1.68369176e+00 -1.43244146e+00  1.67277349e-01\n",
       "  4.19747325e-01  1.64782497e+00  7.13592873e-01 -1.14596521e+00\n",
       "  1.34252339e+00  8.07714428e-01  7.60050496e-01  1.18188473e+00]"
      ]
     },
     "execution_count": 10,
     "metadata": {},
     "output_type": "execute_result"
    }
   ],
   "source": [
    "svd"
   ]
  },
  {
   "cell_type": "code",
   "execution_count": 11,
   "metadata": {},
   "outputs": [
    {
     "data": {
      "text/plain": [
       "[(79132, 0.6846340827893524),\n",
       " (4995, 0.6670095170543019),\n",
       " (356, 0.41769524921447837),\n",
       " (58559, 0.38707743743825723),\n",
       " (72998, 0.38566352045572516),\n",
       " (109487, 0.3297255354125644),\n",
       " (91529, 0.3263724922289458),\n",
       " (99114, 0.3036941068267187),\n",
       " (74458, 0.28726322471400884),\n",
       " (2571, 0.28607719617289035)]"
      ]
     },
     "execution_count": 11,
     "metadata": {},
     "output_type": "execute_result"
    }
   ],
   "source": [
    "svd.recommend(270897,is_row=True,only_unknowns=False) #The userID is in row and gets only the unrated (unknowns)"
   ]
  },
  {
   "cell_type": "code",
   "execution_count": 12,
   "metadata": {},
   "outputs": [
    {
     "name": "stdout",
     "output_type": "stream",
     "text": [
      "Loading ./data_latest/ml-latest/ratings_fold.csv\n",
      "\n",
      "Error while reading (rating, userId, movieId). Skipping this tuple\n",
      "\n"
     ]
    }
   ],
   "source": [
    "#fold-in checking\n",
    "filename2 = './data_latest/ml-latest/ratings_fold_2.csv'\n",
    "format = {'col':1, 'row':0, 'value':2, 'ids': long}\n",
    "data2 = Data()\n",
    "data2.load(filename, sep=',', format=format)"
   ]
  },
  {
   "cell_type": "code",
   "execution_count": 13,
   "metadata": {},
   "outputs": [
    {
     "name": "stdout",
     "output_type": "stream",
     "text": [
      "Reading the new batch\n",
      "Batch loaded successfully\n",
      "Folding in batch entries\n"
     ]
    },
    {
     "ename": "AssertionError",
     "evalue": "672 != 673",
     "output_type": "error",
     "traceback": [
      "\u001b[0;31m---------------------------------------------------------------------------\u001b[0m",
      "\u001b[0;31mAssertionError\u001b[0m                            Traceback (most recent call last)",
      "\u001b[0;32m<ipython-input-13-ab05338039e6>\u001b[0m in \u001b[0;36m<module>\u001b[0;34m()\u001b[0m\n\u001b[0;32m----> 1\u001b[0;31m \u001b[0msvd\u001b[0m\u001b[0;34m.\u001b[0m\u001b[0mload_updateDataBatch_foldin\u001b[0m\u001b[0;34m(\u001b[0m\u001b[0mdata\u001b[0m\u001b[0;34m=\u001b[0m\u001b[0mdata2\u001b[0m\u001b[0;34m,\u001b[0m\u001b[0mis_row\u001b[0m\u001b[0;34m=\u001b[0m\u001b[0mTrue\u001b[0m\u001b[0;34m)\u001b[0m\u001b[0;34m\u001b[0m\u001b[0m\n\u001b[0m",
      "\u001b[0;32m/usr/local/lib/python2.7/dist-packages/python_recsys-0.2-py2.7.egg/recsys/algorithm/factorize.pyc\u001b[0m in \u001b[0;36mload_updateDataBatch_foldin\u001b[0;34m(self, filename, data, force, sep, format, pickle, is_row, truncate, post_normalize)\u001b[0m\n\u001b[1;32m    653\u001b[0m                         self._singleUpdateMatrix,is_batch=isbatch)  # updating the data matrix for the zeroes , also for saving the data matrix if needed\n\u001b[1;32m    654\u001b[0m \u001b[0;34m\u001b[0m\u001b[0m\n\u001b[0;32m--> 655\u001b[0;31m                 \u001b[0mself\u001b[0m\u001b[0;34m.\u001b[0m\u001b[0m_update\u001b[0m\u001b[0;34m(\u001b[0m\u001b[0mis_row\u001b[0m\u001b[0;34m=\u001b[0m\u001b[0mis_row\u001b[0m\u001b[0;34m,\u001b[0m\u001b[0mis_batch\u001b[0m\u001b[0;34m=\u001b[0m\u001b[0misbatch\u001b[0m\u001b[0;34m)\u001b[0m \u001b[0;31m#Do foldin on the singleUpdateMatrix tuple\u001b[0m\u001b[0;34m\u001b[0m\u001b[0m\n\u001b[0m\u001b[1;32m    656\u001b[0m             \u001b[0;32mif\u001b[0m \u001b[0mVERBOSE\u001b[0m\u001b[0;34m:\u001b[0m\u001b[0;34m\u001b[0m\u001b[0m\n\u001b[1;32m    657\u001b[0m                 \u001b[0msys\u001b[0m\u001b[0;34m.\u001b[0m\u001b[0mstdout\u001b[0m\u001b[0;34m.\u001b[0m\u001b[0mwrite\u001b[0m\u001b[0;34m(\u001b[0m\u001b[0;34m'\\n'\u001b[0m\u001b[0;34m)\u001b[0m\u001b[0;34m\u001b[0m\u001b[0m\n",
      "\u001b[0;32m/usr/local/lib/python2.7/dist-packages/python_recsys-0.2-py2.7.egg/recsys/algorithm/factorize.pyc\u001b[0m in \u001b[0;36m_update\u001b[0;34m(self, update_matrix, is_row, is_batch, post_normalize)\u001b[0m\n\u001b[1;32m    729\u001b[0m       \u001b[0;31m#new value can now be concatinated with U\u001b[0m\u001b[0;34m\u001b[0m\u001b[0;34m\u001b[0m\u001b[0m\n\u001b[1;32m    730\u001b[0m \u001b[0;34m\u001b[0m\u001b[0m\n\u001b[0;32m--> 731\u001b[0;31m         \u001b[0mself\u001b[0m\u001b[0;34m.\u001b[0m\u001b[0m_U\u001b[0m\u001b[0;34m=\u001b[0m\u001b[0mself\u001b[0m\u001b[0;34m.\u001b[0m\u001b[0m_U\u001b[0m\u001b[0;34m.\u001b[0m\u001b[0mconcatenate\u001b[0m\u001b[0;34m(\u001b[0m\u001b[0mres\u001b[0m\u001b[0;34m)\u001b[0m\u001b[0;34m\u001b[0m\u001b[0m\n\u001b[0m\u001b[1;32m    732\u001b[0m \u001b[0;34m\u001b[0m\u001b[0m\n\u001b[1;32m    733\u001b[0m       \u001b[0;32melse\u001b[0m\u001b[0;34m:\u001b[0m\u001b[0;34m\u001b[0m\u001b[0m\n",
      "\u001b[0;32m/usr/local/lib/python2.7/dist-packages/divisi2/dense.pyc\u001b[0m in \u001b[0;36mconcatenate\u001b[0;34m(self, other)\u001b[0m\n\u001b[1;32m    331\u001b[0m         \u001b[0;32massert\u001b[0m \u001b[0mself\u001b[0m\u001b[0;34m.\u001b[0m\u001b[0msame_col_labels_as\u001b[0m\u001b[0;34m(\u001b[0m\u001b[0mother\u001b[0m\u001b[0;34m)\u001b[0m\u001b[0;34m\u001b[0m\u001b[0m\n\u001b[1;32m    332\u001b[0m         \u001b[0mnewlabels\u001b[0m \u001b[0;34m=\u001b[0m \u001b[0mlist\u001b[0m\u001b[0;34m(\u001b[0m\u001b[0mself\u001b[0m\u001b[0;34m.\u001b[0m\u001b[0mrow_labels\u001b[0m\u001b[0;34m)\u001b[0m \u001b[0;34m+\u001b[0m \u001b[0mlist\u001b[0m\u001b[0;34m(\u001b[0m\u001b[0mother\u001b[0m\u001b[0;34m.\u001b[0m\u001b[0mrow_labels\u001b[0m\u001b[0;34m)\u001b[0m\u001b[0;34m\u001b[0m\u001b[0m\n\u001b[0;32m--> 333\u001b[0;31m         \u001b[0;32mreturn\u001b[0m \u001b[0mDenseMatrix\u001b[0m\u001b[0;34m(\u001b[0m\u001b[0mnp\u001b[0m\u001b[0;34m.\u001b[0m\u001b[0mconcatenate\u001b[0m\u001b[0;34m(\u001b[0m\u001b[0;34m[\u001b[0m\u001b[0mself\u001b[0m\u001b[0;34m,\u001b[0m \u001b[0mother\u001b[0m\u001b[0;34m]\u001b[0m\u001b[0;34m)\u001b[0m\u001b[0;34m,\u001b[0m \u001b[0mnewlabels\u001b[0m\u001b[0;34m,\u001b[0m \u001b[0mself\u001b[0m\u001b[0;34m.\u001b[0m\u001b[0mcol_labels\u001b[0m\u001b[0;34m)\u001b[0m\u001b[0;34m\u001b[0m\u001b[0m\n\u001b[0m\u001b[1;32m    334\u001b[0m     \u001b[0mextend\u001b[0m \u001b[0;34m=\u001b[0m \u001b[0mconcatenate\u001b[0m \u001b[0;31m# this was the wrong name, but other things use it.\u001b[0m\u001b[0;34m\u001b[0m\u001b[0m\n\u001b[1;32m    335\u001b[0m \u001b[0;34m\u001b[0m\u001b[0m\n",
      "\u001b[0;32m/usr/local/lib/python2.7/dist-packages/divisi2/dense.pyc\u001b[0m in \u001b[0;36m__new__\u001b[0;34m(cls, input_array, row_labels, col_labels)\u001b[0m\n\u001b[1;32m    201\u001b[0m             \u001b[0mobj\u001b[0m\u001b[0;34m.\u001b[0m\u001b[0mrow_labels\u001b[0m \u001b[0;34m=\u001b[0m \u001b[0mOrderedSet\u001b[0m\u001b[0;34m(\u001b[0m\u001b[0mrow_labels\u001b[0m\u001b[0;34m)\u001b[0m\u001b[0;34m\u001b[0m\u001b[0m\n\u001b[1;32m    202\u001b[0m         \u001b[0;32mif\u001b[0m \u001b[0mobj\u001b[0m\u001b[0;34m.\u001b[0m\u001b[0mrow_labels\u001b[0m \u001b[0;32mis\u001b[0m \u001b[0;32mnot\u001b[0m \u001b[0mNone\u001b[0m\u001b[0;34m:\u001b[0m\u001b[0;34m\u001b[0m\u001b[0m\n\u001b[0;32m--> 203\u001b[0;31m             \u001b[0;32massert\u001b[0m \u001b[0mlen\u001b[0m\u001b[0;34m(\u001b[0m\u001b[0mobj\u001b[0m\u001b[0;34m.\u001b[0m\u001b[0mrow_labels\u001b[0m\u001b[0;34m)\u001b[0m \u001b[0;34m==\u001b[0m \u001b[0mobj\u001b[0m\u001b[0;34m.\u001b[0m\u001b[0mshape\u001b[0m\u001b[0;34m[\u001b[0m\u001b[0;36m0\u001b[0m\u001b[0;34m]\u001b[0m\u001b[0;34m,\u001b[0m \u001b[0;34m'%r != %r'\u001b[0m \u001b[0;34m%\u001b[0m \u001b[0;34m(\u001b[0m\u001b[0mlen\u001b[0m\u001b[0;34m(\u001b[0m\u001b[0mobj\u001b[0m\u001b[0;34m.\u001b[0m\u001b[0mrow_labels\u001b[0m\u001b[0;34m)\u001b[0m\u001b[0;34m,\u001b[0m \u001b[0mobj\u001b[0m\u001b[0;34m.\u001b[0m\u001b[0mshape\u001b[0m\u001b[0;34m[\u001b[0m\u001b[0;36m0\u001b[0m\u001b[0;34m]\u001b[0m\u001b[0;34m)\u001b[0m\u001b[0;34m\u001b[0m\u001b[0m\n\u001b[0m\u001b[1;32m    204\u001b[0m         \u001b[0;32mif\u001b[0m \u001b[0mcol_labels\u001b[0m \u001b[0;32mis\u001b[0m \u001b[0mNone\u001b[0m\u001b[0;34m:\u001b[0m\u001b[0;34m\u001b[0m\u001b[0m\n\u001b[1;32m    205\u001b[0m             \u001b[0mobj\u001b[0m\u001b[0;34m.\u001b[0m\u001b[0mcol_labels\u001b[0m \u001b[0;34m=\u001b[0m \u001b[0mNone\u001b[0m\u001b[0;34m\u001b[0m\u001b[0m\n",
      "\u001b[0;31mAssertionError\u001b[0m: 672 != 673"
     ]
    }
   ],
   "source": [
    "svd.load_updateDataBatch_foldin(data=data2,is_row=True)"
   ]
  }
 ],
 "metadata": {
  "kernelspec": {
   "display_name": "Python 2",
   "language": "python",
   "name": "python2"
  },
  "language_info": {
   "codemirror_mode": {
    "name": "ipython",
    "version": 2
   },
   "file_extension": ".py",
   "mimetype": "text/x-python",
   "name": "python",
   "nbconvert_exporter": "python",
   "pygments_lexer": "ipython2",
   "version": "2.7.12"
  }
 },
 "nbformat": 4,
 "nbformat_minor": 2
}
